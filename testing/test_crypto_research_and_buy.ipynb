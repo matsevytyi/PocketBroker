{
 "cells": [
  {
   "cell_type": "markdown",
   "id": "ef346a73",
   "metadata": {},
   "source": [
    "# ## Crypto research and trading notebook using Grok search and Kraken API"
   ]
  },
  {
   "cell_type": "markdown",
   "id": "5d61edd8",
   "metadata": {},
   "source": [
    "## Install needed libs"
   ]
  },
  {
   "cell_type": "code",
   "execution_count": 22,
   "id": "c4c5f987",
   "metadata": {},
   "outputs": [],
   "source": [
    "# !pip install langchain\n",
    "# !pip install langraph\n",
    "# !pip install -U langchain-google-genai\n",
    "# !pip install python-dotenv\n",
    "# !pip install langchain-community\n",
    "# !pip install playwright\n",
    "# !pip install beautifulsoup4\n",
    "# !pip install requests\n",
    "# !pip install duckduckgo-search\n",
    "# %pip install xai-sdk"
   ]
  },
  {
   "cell_type": "markdown",
   "id": "0950e454",
   "metadata": {},
   "source": [
    "## Import needed libs"
   ]
  },
  {
   "cell_type": "code",
   "execution_count": 23,
   "id": "43796b4b",
   "metadata": {},
   "outputs": [],
   "source": [
    "from langchain_google_genai import ChatGoogleGenerativeAI\n",
    "from langchain_community.tools import DuckDuckGoSearchRun\n",
    "from langchain_community.document_loaders import WebBaseLoader\n",
    "from langchain.tools import Tool\n",
    "from langchain.agents import AgentExecutor, create_tool_calling_agent\n",
    "from langchain.prompts import ChatPromptTemplate\n",
    "# from langgraph.graph import StateGraph, END\n",
    "# from langgraph.prebuilt import ToolNode\n",
    "# from langgraph.graph.message import add_messages\n",
    "from typing import Annotated, List, Dict, Any\n",
    "from dotenv import load_dotenv\n",
    "import os\n",
    "import requests\n",
    "from bs4 import BeautifulSoup\n",
    "import json\n",
    "import os\n",
    "\n",
    "from pydantic import BaseModel, Field\n",
    "from typing import Literal\n",
    "import uuid\n",
    "from openai import OpenAI\n",
    "\n",
    "# from xai_sdk import Client\n",
    "# from xai_sdk.chat import user\n",
    "# from xai_sdk.search import SearchParameters"
   ]
  },
  {
   "cell_type": "markdown",
   "id": "d11870b1",
   "metadata": {},
   "source": [
    "## Setup credentials"
   ]
  },
  {
   "cell_type": "code",
   "execution_count": 24,
   "id": "d06131b9",
   "metadata": {},
   "outputs": [
    {
     "data": {
      "text/plain": [
       "True"
      ]
     },
     "execution_count": 24,
     "metadata": {},
     "output_type": "execute_result"
    }
   ],
   "source": [
    "load_dotenv()"
   ]
  },
  {
   "cell_type": "markdown",
   "id": "4cc9d3be",
   "metadata": {},
   "source": [
    "## Setup and test basic llm call"
   ]
  },
  {
   "cell_type": "code",
   "execution_count": null,
   "id": "db2b92a5",
   "metadata": {},
   "outputs": [
    {
     "name": "stdout",
     "output_type": "stream",
     "text": [
      "I cannot fulfill this request as it asks for a prediction of future market conditions and specific financial advice.\n",
      "\n",
      "As an AI, I do not have the ability to predict future events, especially market movements more than a year in advance (September 13th, 2025). The cryptocurrency market is highly volatile and influenced by a vast array of unpredictable factors such as technological developments, regulatory changes, macroeconomic shifts, global events, and market sentiment.\n",
      "\n",
      "Furthermore, I am not a financial advisor, and providing specific 'buy,' 'sell,' or 'hold' recommendations constitutes financial advice, which I am not qualified or authorized to give. Such decisions depend heavily on an individual's financial situation, risk tolerance, and investment goals.\n",
      "\n",
      "For informed investment decisions, it is crucial to:\n",
      "*   **Conduct thorough personal research (DYOR).**\n",
      "*   **Consult with a qualified financial advisor.**\n",
      "*   **Understand the inherent risks associated with cryptocurrency investments.**\n",
      "\n",
      "Therefore, I cannot provide a recommendation for the \"best crypto to buy\" on a future date like September 13th, 2025, nor can I simulate market research for a future point in time.\n"
     ]
    }
   ],
   "source": [
    "# Sample llm call - JUST A TEST\n",
    "llm = ChatGoogleGenerativeAI(model=\"models/gemini-2.5-flash\")\n",
    "response = llm.invoke(\"What is the best crypto to buy at the currect moment on septemer 13th at 10:44 AM, 2025? research the market using websearch tools, use the following output format: [crypto_name]: [action (buy,sell,hold), [reasoning]]\")\n",
    "print(response.content)\n",
    "\n",
    "# Initialize OpenAI client\n",
    "client = OpenAI(\n",
    "    api_key=os.getenv(\"XAI_API_KEY\"),\n",
    "    base_url=\"https://api.x.ai/v1\",\n",
    ")"
   ]
  },
  {
   "cell_type": "markdown",
   "id": "7daf84ed",
   "metadata": {},
   "source": [
    "## Define input schema for kraken order api"
   ]
  },
  {
   "cell_type": "code",
   "execution_count": null,
   "id": "999a30a6",
   "metadata": {},
   "outputs": [],
   "source": [
    "\n",
    "# Define Pydantic schema for Kraken order attributes\n",
    "class KrakenOrderSchema(BaseModel):\n",
    "    ordertype: Literal[\"limit\", \"market\"] = Field(description=\"Type of order - limit or market\")\n",
    "    type: Literal[\"buy\", \"sell\"] = Field(description=\"Buy or sell order\")\n",
    "    volume: str = Field(description=\"Order volume in base currency\")\n",
    "    pair: str = Field(description=\"Currency pair ID or ALTNAME (e.g., XBTUSD,ticker/currency)\")\n",
    "    price: str = Field(description=\"Price for limit orders\")\n"
   ]
  },
  {
   "cell_type": "markdown",
   "id": "62462cee",
   "metadata": {},
   "source": [
    "## rough Example of user data"
   ]
  },
  {
   "cell_type": "code",
   "execution_count": 27,
   "id": "362d033a",
   "metadata": {},
   "outputs": [],
   "source": [
    "## Example of user data (rag from current portfolio)\n",
    "current_holdings = \"\"\"\n",
    "- Bitcoin (BTC): 0.5 BTC\n",
    "- Ethereum (ETH): 2.0 ETH  \n",
    "- Solana (SOL): 50 SOL\n",
    "- Cardano (ADA): 1000 ADA\n",
    "\"\"\""
   ]
  },
  {
   "cell_type": "markdown",
   "id": "d7b7a72b",
   "metadata": {},
   "source": [
    "## Make llm call with grok search knowledge and sample wallet data"
   ]
  },
  {
   "cell_type": "code",
   "execution_count": 28,
   "id": "2f0e7033",
   "metadata": {},
   "outputs": [
    {
     "name": "stdout",
     "output_type": "stream",
     "text": [
      "{'id': '9c9e3a0b-65cf-ecf0-af18-b8d6d467ee61_us-east-1', 'object': 'chat.completion', 'created': 1757798889, 'model': 'grok-4-0709', 'choices': [{'index': 0, 'message': {'role': 'assistant', 'content': \"Token: BTC\\nAction: BUY,\\nPrice: $115,000,\\nQuantity: 0.1,\\nReasoning: Based on recent market research from sources like Exploding Topics and Forbes, the cryptocurrency market in 2025 is experiencing a strong bull run following volatility in Q1 due to US trade tariffs. As of September 13, 2025, the total market cap has risen to around $4.12 trillion, with Bitcoin (BTC) leading at approximately $115,000 per coin, up 18% YTD and outperforming traditional assets like gold and stocks. Key trends include AI integration in DeFi, growth in tokenized assets, and stablecoin-driven demand for altcoins, with sentiment on platforms like X showing optimism around BTC's role as a macro asset amid ETF inflows and treasury adoptions. Emerging opportunities highlight Solana (SOL) at $239 with ecosystem expansion and memecoins like DOGE outperforming, but BTC remains the safest entry point for diversification.\\n\\nYour current portfolio appears empty based on the provided details, which indicates a complete lack of exposure to any crypto assets. This creates a significant gap in diversification, as you're missing out on the market's upward momentum without any holdings in established or emerging tokens. Overexposure isn't an issue here, but the absence of positions means high opportunity cost in a rising market.\\n\\nTo improve portfolio balance, I recommend starting with a BUY of BTC as a foundational asset. This diversifies into a low-volatility (relative to altcoins) blue-chip crypto that anchors a portfolio, allowing future allocations to riskier assets like ETH or SOL. Aim for a strategy where BTC comprises 40-60% of a new portfolio for stability, with gradual additions to altcoins for growth.\\n\\nAssuming a moderate risk profile (since preferences weren't specified), this fits well—BTC offers lower risk compared to volatile altcoins, with historical resilience and current trends supporting further gains (forecasts from InvestingHaven suggest BTC highs in 2025). Risk management includes setting stop-losses at 10-15% below entry and diversifying gradually to mitigate market dips. This action provides immediate exposure to the bull market while building a balanced foundation, reducing overall portfolio risk through BTC's market dominance and hedging against inflation. If your actual holdings or preferences differ, refine this accordingly.\", 'refusal': None}, 'finish_reason': 'stop'}], 'usage': {'prompt_tokens': 3221, 'completion_tokens': 464, 'total_tokens': 4245, 'prompt_tokens_details': {'text_tokens': 3221, 'audio_tokens': 0, 'image_tokens': 0, 'cached_tokens': 685}, 'completion_tokens_details': {'reasoning_tokens': 560, 'audio_tokens': 0, 'accepted_prediction_tokens': 0, 'rejected_prediction_tokens': 0}, 'num_sources_used': 3}, 'system_fingerprint': 'fp_19e21a36c0', 'citations': ['https://explodingtopics.com/blog/cryptocurrency-trends', 'https://www.cbh.com/insights/articles/cryptocurrency-market-trends-updates-for-2025/', 'https://investinghaven.com/crypto-forecasts/15-cryptocurrency-forecasts-2025/', 'https://www.forbes.com/sites/digital-assets/article/top-cryptocurreny-trends-second-half-2025/', 'https://ainvest.com/news/choose-crypto-exchanges-2025-2509', 'https://finance.yahoo.com/news/why-crypto-today-september-12-112712306.html', 'https://globenewswire.com/news-release/2025/09/12/3149312/28124/en/Cryptography-Market-Forecast-2025-2030-Blockchain-IoT-and-Zero-Trust-Drive-Adoption.html', 'https://x.com/only1mrwhite/status/1942114561806496209', 'https://x.com/only1mrwhite/status/1919393322663108875', 'https://x.com/Cointelegraph/status/1896959107682217997']}\n"
     ]
    }
   ],
   "source": [
    "\n",
    "url = \"https://api.x.ai/v1/chat/completions\"\n",
    "headers = {\n",
    "\"Content-Type\": \"application/json\",\n",
    "\"Authorization\": f\"Bearer {os.getenv('XAI_API_KEY')}\"\n",
    "}\n",
    "payload = {\n",
    "\"messages\": [\n",
    "{\n",
    "\"role\": \"user\",\n",
    "\"content\": \"\"\"\n",
    "# Cryptocurrency Portfolio Analysis and Investment Recommendation\n",
    "\n",
    "## Current Portfolio\n",
    "I currently hold the following cryptocurrency positions:\n",
    "\n",
    "\n",
    "## Preferences:\n",
    "\n",
    "## Research Request\n",
    "Please conduct thorough market research on current cryptocurrency trends, market conditions, and emerging opportunities. Based on this research and my existing portfolio composition, provide a smart diversification recommendation on what i should buy.\n",
    "\n",
    "## Analysis Requirements\n",
    "1. **Market Research**: Analyze current market conditions, trends, and sentiment\n",
    "2. **Portfolio Assessment**: Evaluate my current holdings and identify gaps or overexposure\n",
    "3. **Diversification Strategy**: Recommend a action that would improve portfolio balance\n",
    "4. **Risk Management**: Consider how the recommendation fits my risk profile\n",
    "\n",
    "## Output Format\n",
    "Token: [TOKEN_NAME]\n",
    "Action: [BUY/SELL/HOLD],\n",
    "Price: [PRICE],\n",
    "Quantity: [QUANTITY],\n",
    "Reasoning: [Detailed explanation including market analysis, portfolio fit, risk assessment, and diversification benefits]\n",
    "\"\"\"\n",
    "}\n",
    "],\n",
    "\"search_parameters\": {\n",
    "\"mode\": \"auto\",\n",
    "\"max_search_results\": 10,\n",
    "\"from_date\": \"2025-01-01\",\n",
    "\"to_date\": \"2025-12-31\"\n",
    "},\n",
    "\"model\": \"grok-4\"\n",
    "}\n",
    "\n",
    "response = requests.post(url, headers=headers, json=payload)\n",
    "print(response.json())\n",
    "\n",
    "#make another call to parse into structured output\n",
    "\n"
   ]
  },
  {
   "cell_type": "code",
   "execution_count": 29,
   "id": "0af61ce3",
   "metadata": {},
   "outputs": [
    {
     "name": "stdout",
     "output_type": "stream",
     "text": [
      "Token: BTC\n",
      "Action: BUY,\n",
      "Price: $115,000,\n",
      "Quantity: 0.1,\n",
      "Reasoning: Based on recent market research from sources like Exploding Topics and Forbes, the cryptocurrency market in 2025 is experiencing a strong bull run following volatility in Q1 due to US trade tariffs. As of September 13, 2025, the total market cap has risen to around $4.12 trillion, with Bitcoin (BTC) leading at approximately $115,000 per coin, up 18% YTD and outperforming traditional assets like gold and stocks. Key trends include AI integration in DeFi, growth in tokenized assets, and stablecoin-driven demand for altcoins, with sentiment on platforms like X showing optimism around BTC's role as a macro asset amid ETF inflows and treasury adoptions. Emerging opportunities highlight Solana (SOL) at $239 with ecosystem expansion and memecoins like DOGE outperforming, but BTC remains the safest entry point for diversification.\n",
      "\n",
      "Your current portfolio appears empty based on the provided details, which indicates a complete lack of exposure to any crypto assets. This creates a significant gap in diversification, as you're missing out on the market's upward momentum without any holdings in established or emerging tokens. Overexposure isn't an issue here, but the absence of positions means high opportunity cost in a rising market.\n",
      "\n",
      "To improve portfolio balance, I recommend starting with a BUY of BTC as a foundational asset. This diversifies into a low-volatility (relative to altcoins) blue-chip crypto that anchors a portfolio, allowing future allocations to riskier assets like ETH or SOL. Aim for a strategy where BTC comprises 40-60% of a new portfolio for stability, with gradual additions to altcoins for growth.\n",
      "\n",
      "Assuming a moderate risk profile (since preferences weren't specified), this fits well—BTC offers lower risk compared to volatile altcoins, with historical resilience and current trends supporting further gains (forecasts from InvestingHaven suggest BTC highs in 2025). Risk management includes setting stop-losses at 10-15% below entry and diversifying gradually to mitigate market dips. This action provides immediate exposure to the bull market while building a balanced foundation, reducing overall portfolio risk through BTC's market dominance and hedging against inflation. If your actual holdings or preferences differ, refine this accordingly.\n"
     ]
    }
   ],
   "source": [
    "# Extract content from response\n",
    "content = response.json()['choices'][0]['message']['content']\n",
    "print(content)"
   ]
  },
  {
   "cell_type": "markdown",
   "id": "54550e91",
   "metadata": {},
   "source": [
    "## Use recomendation returned from grok to create a structured output for the kraken api to fulfill and order"
   ]
  },
  {
   "cell_type": "code",
   "execution_count": 30,
   "id": "2a7dcce4",
   "metadata": {},
   "outputs": [
    {
     "name": "stdout",
     "output_type": "stream",
     "text": [
      "Raw Gemini response:\n",
      "```json\n",
      "{\n",
      "  \"ordertype\": \"limit\",\n",
      "  \"type\": \"buy\",\n",
      "  \"volume\": \"0.1\",\n",
      "  \"pair\": \"XBTUSD\",\n",
      "  \"price\": \"115000\"\n",
      "}\n",
      "```\n",
      "\n",
      "==================================================\n",
      "\n",
      "Successfully parsed Gemini + LangChain structured output:\n",
      "ordertype='limit' type='buy' volume='0.1' pair='XBTUSD' price='115000'\n"
     ]
    }
   ],
   "source": [
    "# Alternative implementation using Gemini and LangChain for structured output\n",
    "from langchain_google_genai import ChatGoogleGenerativeAI\n",
    "from langchain_core.output_parsers import PydanticOutputParser\n",
    "from langchain_core.prompts import ChatPromptTemplate\n",
    "import json\n",
    "\n",
    "# Initialize Gemini model\n",
    "gemini_llm = ChatGoogleGenerativeAI(\n",
    "    model=\"gemini-2.5-flash\",\n",
    "    temperature=0\n",
    ")\n",
    "\n",
    "# Create output parser for structured data\n",
    "parser = PydanticOutputParser(pydantic_object=KrakenOrderSchema)\n",
    "\n",
    "# Create prompt template with format instructions\n",
    "prompt = ChatPromptTemplate.from_messages([\n",
    "    (\"system\", \"\"\"You are an expert cryptocurrency analyst and portfolio manager. Your task is to parse and structure cryptocurrency trading recommendations from market analysis content.\n",
    "\n",
    "    The input content follows this format:\n",
    "    - Token: [TOKEN_NAME] (e.g., BTC (Bitcoin))\n",
    "    - Action: [BUY/SELL/HOLD]\n",
    "    - Reasoning: [Detailed market analysis, portfolio assessment, and risk evaluation]\n",
    "\n",
    "    IMPORTANT: You must return a SINGLE JSON object (not an array) that matches the KrakenOrderSchema format. If multiple tokens are recommended, choose the PRIMARY recommendation only.\n",
    "    \n",
    "    {format_instructions}\"\"\"),\n",
    "    (\"user\", \"\"\"Parse the following cryptocurrency trading recommendation and structure it into the required JSON format:\n",
    "\n",
    "    {content}\n",
    "\n",
    "    Current Holdings: {current_holdings}\n",
    "\n",
    "    Extract the PRIMARY token recommendation only. Return a single JSON object (not an array) with the token name, trading action, and detailed reasoning. Ensure all market analysis, portfolio considerations, and risk assessments are preserved in the structured output.\"\"\")\n",
    "])\n",
    "\n",
    "# Create the chain without parser first to see raw output\n",
    "chain_raw = prompt | gemini_llm\n",
    "raw_response = {}\n",
    "gemini_completion = {}\n",
    "try:\n",
    "    # Execute the chain to get raw output first\n",
    "    raw_response = chain_raw.invoke({\n",
    "        \"content\": content,\n",
    "        \"current_holdings\": current_holdings,\n",
    "        \"format_instructions\": parser.get_format_instructions()\n",
    "    })\n",
    "    \n",
    "    print(\"Raw Gemini response:\")\n",
    "    print(raw_response.content)\n",
    "    print(\"\\n\" + \"=\"*50 + \"\\n\")\n",
    "    \n",
    "    # Try to parse the raw response\n",
    "    try:\n",
    "        # Clean the response content to extract JSON\n",
    "        response_content = raw_response.content.strip()\n",
    "        \n",
    "        # If response starts with ```json, extract the JSON part\n",
    "        if response_content.startswith(\"```json\"):\n",
    "            response_content = response_content.split(\"```json\")[1].split(\"```\")[0].strip()\n",
    "        elif response_content.startswith(\"```\"):\n",
    "            response_content = response_content.split(\"```\")[1].split(\"```\")[0].strip()\n",
    "        \n",
    "        # Parse JSON\n",
    "        parsed_json = json.loads(response_content)\n",
    "        \n",
    "        # If it's a list, take the first item\n",
    "        if isinstance(parsed_json, list) and len(parsed_json) > 0:\n",
    "            parsed_json = parsed_json[0]\n",
    "            print(\"Warning: Received list, taking first item\")\n",
    "        \n",
    "        # Validate with Pydantic\n",
    "        gemini_completion = KrakenOrderSchema.model_validate(parsed_json)\n",
    "        \n",
    "        print(\"Successfully parsed Gemini + LangChain structured output:\")\n",
    "        print(gemini_completion)\n",
    "        \n",
    "        \n",
    "    except json.JSONDecodeError as e:\n",
    "        print(f\"JSON parsing error: {e}\")\n",
    "        print(\"Raw content that failed to parse:\")\n",
    "        print(repr(response_content))\n",
    "        \n",
    "    except Exception as e:\n",
    "        print(f\"Pydantic validation error: {e}\")\n",
    "        print(\"Parsed JSON that failed validation:\")\n",
    "        print(parsed_json)\n",
    "\n",
    "        \n",
    "except Exception as e:\n",
    "    print(f\"Chain execution error: {e}\")\n"
   ]
  },
  {
   "cell_type": "code",
   "execution_count": 31,
   "id": "42b0a270",
   "metadata": {},
   "outputs": [
    {
     "name": "stdout",
     "output_type": "stream",
     "text": [
      "ordertype='limit' type='buy' volume='0.1' pair='XBTUSD' price='115000'\n"
     ]
    }
   ],
   "source": [
    "from pprint import pprint\n",
    "print(gemini_completion)"
   ]
  },
  {
   "cell_type": "markdown",
   "id": "24cc657e",
   "metadata": {},
   "source": [
    "## Create Web Browsing Tools\n"
   ]
  },
  {
   "cell_type": "code",
   "execution_count": null,
   "id": "ceab193e",
   "metadata": {},
   "outputs": [],
   "source": []
  },
  {
   "cell_type": "markdown",
   "id": "3fb9ad62",
   "metadata": {},
   "source": [
    "## Create LangGraph Web Browsing Agent\n"
   ]
  },
  {
   "cell_type": "code",
   "execution_count": null,
   "id": "d3a1f1df",
   "metadata": {},
   "outputs": [],
   "source": [
    "# "
   ]
  },
  {
   "cell_type": "markdown",
   "id": "90c5663c",
   "metadata": {},
   "source": [
    "## Advanced LangGraph Implementation with State Management\n"
   ]
  },
  {
   "cell_type": "code",
   "execution_count": 33,
   "id": "c57931ef",
   "metadata": {},
   "outputs": [],
   "source": [
    "# # Structured Output Example for Crypto Trading Data\n",
    "# from openai import OpenAI\n",
    "# from pydantic import BaseModel, Field\n",
    "# from datetime import date\n",
    "# from enum import Enum\n",
    "# from typing import List, Optional\n",
    "\n",
    "# # Pydantic Schemas for Crypto Trading Data\n",
    "\n",
    "# class TradingAction(str, Enum):\n",
    "#     BUY = \"BUY\"\n",
    "#     SELL = \"SELL\"\n",
    "#     HOLD = \"HOLD\"\n",
    "\n",
    "# class RiskLevel(str, Enum):\n",
    "#     LOW = \"LOW\"\n",
    "#     MEDIUM = \"MEDIUM\"\n",
    "#     HIGH = \"HIGH\"\n",
    "\n",
    "# class MarketSignal(BaseModel):\n",
    "#     signal_type: str = Field(description=\"Type of signal (technical, sentiment, fundamental)\")\n",
    "#     value: float = Field(description=\"Signal strength (-1 to 1)\")\n",
    "#     weight: float = Field(description=\"Weight of this signal in decision making\")\n",
    "#     source: str = Field(description=\"Source of the signal\")\n",
    "\n",
    "# class TradingRecommendation(BaseModel):\n",
    "#     cryptocurrency: str = Field(description=\"Cryptocurrency symbol (e.g., BTC, ETH)\")\n",
    "#     action: TradingAction = Field(description=\"Recommended trading action\")\n",
    "#     confidence: float = Field(description=\"Confidence level (0-100)\", ge=0, le=100)\n",
    "#     reasoning: str = Field(description=\"Detailed explanation for the recommendation\")\n",
    "#     risk_level: RiskLevel = Field(description=\"Risk assessment of the trade\")\n",
    "#     position_size: float = Field(description=\"Recommended position size as percentage of portfolio\", ge=0, le=100)\n",
    "#     stop_loss: Optional[float] = Field(description=\"Stop loss price\", default=None)\n",
    "#     take_profit: Optional[float] = Field(description=\"Take profit price\", default=None)\n",
    "#     market_signals: List[MarketSignal] = Field(description=\"Supporting market signals\")\n",
    "\n",
    "\n",
    "\n",
    "# print(\"✅ Crypto trading schemas defined and client initialized\")\n"
   ]
  },
  {
   "cell_type": "code",
   "execution_count": 34,
   "id": "91dca94a",
   "metadata": {},
   "outputs": [],
   "source": [
    "# # Make structured output call for crypto trading recommendation\n",
    "# completion = client.beta.chat.completions.parse(\n",
    "#     model=\"grok-4\",\n",
    "#     messages=[\n",
    "#         {\n",
    "#             \"role\": \"system\", \n",
    "#             \"content\": \"\"\"You are an expert cryptocurrency analyst. Analyze the given market data and provide structured trading recommendations. \n",
    "#             Consider technical analysis, market sentiment, fundamental factors, and risk assessment. \n",
    "#             Provide detailed reasoning and supporting signals for your recommendations.\"\"\"\n",
    "#         },\n",
    "#         {\n",
    "#             \"role\": \"user\", \n",
    "#             \"content\": \"\"\"\n",
    "#             Analyze the current cryptocurrency market and provide trading recommendations for Bitcoin and Ethereum.\n",
    "            \n",
    "#             Current Market Data:\n",
    "#             - Bitcoin (BTC): $95,000 (+5.2% 24h, +15.8% 7d)\n",
    "#             - Ethereum (ETH): $3,200 (+3.1% 24h, +12.4% 7d)\n",
    "            \n",
    "#             Market Context:\n",
    "#             - Bull market conditions with strong institutional adoption\n",
    "#             - Recent ETF approvals driving mainstream adoption\n",
    "#             - DeFi TVL at all-time highs\n",
    "#             - Positive regulatory developments in major markets\n",
    "            \n",
    "#             Technical Indicators:\n",
    "#             - BTC: Above 50-day and 200-day moving averages, RSI at 65\n",
    "#             - ETH: Strong support at $3,000, resistance at $3,500\n",
    "            \n",
    "#             News Sentiment:\n",
    "#             - Positive: Major banks announcing crypto custody services\n",
    "#             - Neutral: Regulatory clarity improving in key jurisdictions\n",
    "#             - Risk: Potential market correction after recent gains\n",
    "            \n",
    "#             Please provide structured trading recommendations with detailed analysis.\n",
    "#             \"\"\"\n",
    "#         }\n",
    "#     ],\n",
    "#     response_format=TradingRecommendation,\n",
    "# )\n",
    "\n",
    "# # Extract the parsed recommendation\n",
    "# recommendation = completion.choices[0].message.parsed\n",
    "\n",
    "# print(\"🎯 Structured Trading Recommendation:\")\n",
    "# print(\"=\" * 50)\n",
    "# print(f\"Cryptocurrency: {recommendation.cryptocurrency}\")\n",
    "# print(f\"Action: {recommendation.action}\")\n",
    "# print(f\"Confidence: {recommendation.confidence}%\")\n",
    "# print(f\"Risk Level: {recommendation.risk_level}\")\n",
    "# print(f\"Position Size: {recommendation.position_size}%\")\n",
    "# print(f\"Stop Loss: ${recommendation.stop_loss}\" if recommendation.stop_loss else \"Stop Loss: Not set\")\n",
    "# print(f\"Take Profit: ${recommendation.take_profit}\" if recommendation.take_profit else \"Take Profit: Not set\")\n",
    "# print(f\"\\nReasoning: {recommendation.reasoning}\")\n",
    "# print(f\"\\nMarket Signals:\")\n",
    "# for signal in recommendation.market_signals:\n",
    "#     print(f\"  - {signal.signal_type}: {signal.value:.3f} (weight: {signal.weight}, source: {signal.source})\")\n"
   ]
  },
  {
   "cell_type": "code",
   "execution_count": 35,
   "id": "82820f35",
   "metadata": {},
   "outputs": [],
   "source": [
    "# # Alternative: Multiple Recommendations Schema\n",
    "# class PortfolioRecommendation(BaseModel):\n",
    "#     recommendations: List[TradingRecommendation] = Field(description=\"List of trading recommendations\")\n",
    "#     portfolio_risk_score: float = Field(description=\"Overall portfolio risk score (0-100)\", ge=0, le=100)\n",
    "#     diversification_notes: str = Field(description=\"Notes on portfolio diversification\")\n",
    "#     market_outlook: str = Field(description=\"Overall market outlook and strategy\")\n",
    "\n",
    "# # Make call for multiple recommendations\n",
    "# multi_completion = client.beta.chat.completions.parse(\n",
    "#     model=\"grok-4\",\n",
    "#     messages=[\n",
    "#         {\n",
    "#             \"role\": \"system\", \n",
    "#             \"content\": \"\"\"You are a portfolio manager specializing in cryptocurrency investments. \n",
    "#             Provide comprehensive portfolio recommendations considering diversification, risk management, and market conditions.\"\"\"\n",
    "#         },\n",
    "#         {\n",
    "#             \"role\": \"user\", \n",
    "#             \"content\": \"\"\"\n",
    "#             Create a diversified cryptocurrency portfolio recommendation based on current market conditions.\n",
    "            \n",
    "#             Available cryptocurrencies for analysis:\n",
    "#             - Bitcoin (BTC): $95,000, Market Cap: $1.8T\n",
    "#             - Ethereum (ETH): $3,200, Market Cap: $380B  \n",
    "#             - Solana (SOL): $180, Market Cap: $80B\n",
    "#             - Cardano (ADA): $0.45, Market Cap: $16B\n",
    "#             - Chainlink (LINK): $12, Market Cap: $7B\n",
    "            \n",
    "#             Portfolio Requirements:\n",
    "#             - Total portfolio value: $100,000\n",
    "#             - Risk tolerance: Medium\n",
    "#             - Investment horizon: 6-12 months\n",
    "#             - Focus on diversification across different sectors (L1, DeFi, Infrastructure)\n",
    "            \n",
    "#             Provide recommendations for each cryptocurrency with position sizing and risk assessment.\n",
    "#             \"\"\"\n",
    "#         }\n",
    "#     ],\n",
    "#     response_format=PortfolioRecommendation,\n",
    "# )\n",
    "\n",
    "# # Extract the portfolio recommendation\n",
    "# portfolio = multi_completion.choices[0].message.parsed\n",
    "\n",
    "# print(\"📊 Portfolio Recommendation:\")\n",
    "# print(\"=\" * 60)\n",
    "# print(f\"Portfolio Risk Score: {portfolio.portfolio_risk_score}/100\")\n",
    "# print(f\"Market Outlook: {portfolio.market_outlook}\")\n",
    "# print(f\"Diversification Notes: {portfolio.diversification_notes}\")\n",
    "# print(f\"\\nIndividual Recommendations:\")\n",
    "# print(\"-\" * 40)\n",
    "\n",
    "# for i, rec in enumerate(portfolio.recommendations, 1):\n",
    "#     print(f\"\\n{i}. {rec.cryptocurrency}\")\n",
    "#     print(f\"   Action: {rec.action}\")\n",
    "#     print(f\"   Position Size: {rec.position_size}% (${rec.position_size * 1000:.0f})\")\n",
    "#     print(f\"   Confidence: {rec.confidence}%\")\n",
    "#     print(f\"   Risk Level: {rec.risk_level}\")\n",
    "#     print(f\"   Reasoning: {rec.reasoning[:100]}...\")\n"
   ]
  }
 ],
 "metadata": {
  "kernelspec": {
   "display_name": "base",
   "language": "python",
   "name": "python3"
  },
  "language_info": {
   "codemirror_mode": {
    "name": "ipython",
    "version": 3
   },
   "file_extension": ".py",
   "mimetype": "text/x-python",
   "name": "python",
   "nbconvert_exporter": "python",
   "pygments_lexer": "ipython3",
   "version": "3.11.7"
  }
 },
 "nbformat": 4,
 "nbformat_minor": 5
}
